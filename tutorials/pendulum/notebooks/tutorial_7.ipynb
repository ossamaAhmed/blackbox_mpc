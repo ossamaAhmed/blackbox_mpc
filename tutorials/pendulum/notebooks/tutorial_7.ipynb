{
 "cells": [
  {
   "cell_type": "markdown",
   "metadata": {},
   "source": [
    "# Tutorial Seven"
   ]
  },
  {
   "cell_type": "markdown",
   "metadata": {},
   "source": [
    "create a parallel environment for the pendulum environment and then create the mpc controller with the\n",
    "true analytical model using the low level API blocks and customizing the optimizer params, Note: each block can be\n",
    "extended and modified using the base of the block itself."
   ]
  },
  {
   "cell_type": "code",
   "execution_count": 1,
   "metadata": {},
   "outputs": [],
   "source": [
    "from tf_neuralmpc.environment_utils import EnvironmentWrapper\n",
    "from tf_neuralmpc.examples.true_models import PendulumTrueModel\n",
    "from tf_neuralmpc.trajectory_evaluators.deterministic import DeterministicTrajectoryEvaluator\n",
    "from tf_neuralmpc.dynamics_handlers.system_dynamics_handler import SystemDynamicsHandler\n",
    "from tf_neuralmpc.examples.cost_funcs import pendulum_state_reward_function, pendulum_actions_reward_function\n",
    "from tf_neuralmpc.policies.mpc_policy import MPCPolicy\n",
    "from tf_neuralmpc.optimizers import PSOOptimizer\n",
    "import logging\n",
    "import tensorflow as tf\n",
    "import numpy as np\n",
    "from tf_neuralmpc import Runner\n",
    "logging.getLogger().setLevel(logging.INFO)"
   ]
  },
  {
   "cell_type": "code",
   "execution_count": 2,
   "metadata": {},
   "outputs": [],
   "source": [
    "number_of_agents = 5\n",
    "single_env, parallel_env = EnvironmentWrapper.make_standard_gym_env(\"Pendulum-v0\", random_seed=0,\n",
    "                                                                    num_of_agents=number_of_agents)\n",
    "my_runner = Runner(env=[single_env, parallel_env],\n",
    "                   log_path=None,\n",
    "                   num_of_agents=number_of_agents)"
   ]
  },
  {
   "cell_type": "markdown",
   "metadata": {},
   "source": [
    "Define the system dynamics handler."
   ]
  },
  {
   "cell_type": "code",
   "execution_count": 3,
   "metadata": {},
   "outputs": [],
   "source": [
    "state_size = tf.constant(single_env.observation_space.shape[0], dtype=tf.int32)\n",
    "input_size = tf.constant(single_env.action_space.shape[0], dtype=tf.int32)\n",
    "system_dynamics_handler = SystemDynamicsHandler(dynamics_function=PendulumTrueModel(),\n",
    "                                                dim_O=state_size,\n",
    "                                                dim_U=input_size,\n",
    "                                                num_of_agents=number_of_agents,\n",
    "                                                true_model=True)"
   ]
  },
  {
   "cell_type": "markdown",
   "metadata": {},
   "source": [
    "Define the trajectory evaluator that will be used to evaluate trajectories proposed by the optimizer."
   ]
  },
  {
   "cell_type": "code",
   "execution_count": 4,
   "metadata": {},
   "outputs": [],
   "source": [
    "deterministic_trajectory_evaluator = DeterministicTrajectoryEvaluator(state_reward_function=pendulum_state_reward_function,\n",
    "                                                                      actions_reward_function=pendulum_actions_reward_function,\n",
    "                                                                      planning_horizon=50,\n",
    "                                                                      dim_U=input_size,\n",
    "                                                                      dim_O=state_size,\n",
    "                                                                      system_dynamics_handler=system_dynamics_handler)"
   ]
  },
  {
   "cell_type": "markdown",
   "metadata": {},
   "source": [
    "Define the optimizer that will be used and customize its params."
   ]
  },
  {
   "cell_type": "code",
   "execution_count": 5,
   "metadata": {},
   "outputs": [],
   "source": [
    "max_iterations = 5\n",
    "population_size = 500\n",
    "c1 = 0.3\n",
    "c2 = 0.5\n",
    "w = 0.2\n",
    "initial_velocity_fraction = 0.01\n",
    "action_upper_bound = tf.constant(single_env.action_space.high, dtype=tf.float32)\n",
    "action_lower_bound = tf.constant(single_env.action_space.low, dtype=tf.float32)\n",
    "my_optimizer = PSOOptimizer(max_iterations=tf.constant(max_iterations, dtype=tf.int32),\n",
    "                            population_size=tf.constant(population_size, dtype=tf.int32),\n",
    "                            c1=tf.constant(c1, dtype=tf.float32),\n",
    "                            c2=tf.constant(c2, dtype=tf.float32),\n",
    "                            w=tf.constant(w, dtype=tf.float32),\n",
    "                            initial_velocity_fraction=tf.constant(\n",
    "                            initial_velocity_fraction, dtype=tf.float32),\n",
    "                            dim_U=input_size,\n",
    "                            dim_O=state_size,\n",
    "                            action_upper_bound=action_upper_bound,\n",
    "                            action_lower_bound=action_lower_bound,\n",
    "                            num_agents=number_of_agents,\n",
    "                            trajectory_evaluator=deterministic_trajectory_evaluator,\n",
    "                            planning_horizon=50)"
   ]
  },
  {
   "cell_type": "markdown",
   "metadata": {},
   "source": [
    "Define the MPC policy now"
   ]
  },
  {
   "cell_type": "code",
   "execution_count": 6,
   "metadata": {},
   "outputs": [],
   "source": [
    "mpc_controller = MPCPolicy(system_dynamics_handler=system_dynamics_handler,\n",
    "                           optimizer=my_optimizer)"
   ]
  },
  {
   "cell_type": "markdown",
   "metadata": {},
   "source": [
    "Rollout a trajectory"
   ]
  },
  {
   "cell_type": "code",
   "execution_count": 7,
   "metadata": {},
   "outputs": [],
   "source": [
    "current_obs = single_env.reset()\n",
    "current_obs = np.tile(np.expand_dims(current_obs, 0),\n",
    "                      (number_of_agents, 1))\n",
    "for t in range(200):\n",
    "    action_to_execute, expected_obs, expected_reward = mpc_controller.act(current_obs, t)\n",
    "    current_obs, reward, _, info = single_env.step(action_to_execute[0])\n",
    "    current_obs = np.tile(np.expand_dims(current_obs, 0),\n",
    "                          (number_of_agents, 1))\n",
    "    single_env.render()"
   ]
  }
 ],
 "metadata": {
  "kernelspec": {
   "display_name": "Python 3",
   "language": "python",
   "name": "python3"
  },
  "language_info": {
   "codemirror_mode": {
    "name": "ipython",
    "version": 3
   },
   "file_extension": ".py",
   "mimetype": "text/x-python",
   "name": "python",
   "nbconvert_exporter": "python",
   "pygments_lexer": "ipython3",
   "version": "3.7.5"
  }
 },
 "nbformat": 4,
 "nbformat_minor": 2
}
