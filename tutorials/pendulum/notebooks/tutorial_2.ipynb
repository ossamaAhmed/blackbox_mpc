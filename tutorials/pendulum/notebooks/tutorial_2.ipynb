{
 "cells": [
  {
   "cell_type": "markdown",
   "metadata": {},
   "source": [
    "# Tutorial Two"
   ]
  },
  {
   "cell_type": "markdown",
   "metadata": {},
   "source": [
    "create a parallel environment for the pendulum environment and then learn the dynamics model\n",
    "from random rollouts, log the data in tensorboard."
   ]
  },
  {
   "cell_type": "code",
   "execution_count": 1,
   "metadata": {},
   "outputs": [],
   "source": [
    "from tf_neuralmpc.environment_utils import EnvironmentWrapper\n",
    "import logging\n",
    "from tf_neuralmpc.dynamics_functions import DeterministicMLP\n",
    "from tf_neuralmpc import Runner\n",
    "import tensorflow as tf\n",
    "logging.getLogger().setLevel(logging.INFO)"
   ]
  },
  {
   "cell_type": "code",
   "execution_count": 2,
   "metadata": {},
   "outputs": [],
   "source": [
    "number_of_agents = 5\n",
    "log_path = './tutorial_2'\n",
    "single_env, parallel_env = EnvironmentWrapper.make_standard_gym_env(\"Pendulum-v0\", random_seed=0,\n",
    "                                                                    num_of_agents=number_of_agents)\n",
    "my_runner = Runner(env=[single_env, parallel_env],\n",
    "                   log_path=log_path,\n",
    "                   num_of_agents=number_of_agents)\n"
   ]
  },
  {
   "cell_type": "markdown",
   "metadata": {},
   "source": [
    "Define the dynamics model architecture now"
   ]
  },
  {
   "cell_type": "code",
   "execution_count": 3,
   "metadata": {},
   "outputs": [],
   "source": [
    "state_size = single_env.observation_space.shape[0]\n",
    "input_size = single_env.action_space.shape[0]\n",
    "dynamics_function = DeterministicMLP()\n",
    "dynamics_function.add_layer(state_size + input_size,\n",
    "                            32, activation_function=tf.math.tanh)\n",
    "dynamics_function.add_layer(32, 32, activation_function=tf.math.tanh)\n",
    "dynamics_function.add_layer(32, 32, activation_function=tf.math.tanh)\n",
    "dynamics_function.add_layer(32, state_size)"
   ]
  },
  {
   "cell_type": "markdown",
   "metadata": {},
   "source": [
    "Now learn the dynamics model using the random rollouts. Note: real number of rollouts in totoal is eqaul to number_of_agents*number_of_rollouts"
   ]
  },
  {
   "cell_type": "code",
   "execution_count": 4,
   "metadata": {},
   "outputs": [
    {
     "name": "stderr",
     "output_type": "stream",
     "text": [
      "INFO:root:Started collecting samples for rollouts\n",
      "INFO:root:Average action selection time: 0.0002661228179931641\n",
      "INFO:root:Rollout length: 200\n",
      "INFO:root:Average action selection time: 0.00024823665618896486\n",
      "INFO:root:Rollout length: 200\n",
      "INFO:root:Average action selection time: 0.00027435779571533203\n",
      "INFO:root:Rollout length: 200\n",
      "INFO:root:Average action selection time: 0.0002526712417602539\n",
      "INFO:root:Rollout length: 200\n",
      "INFO:root:Average action selection time: 0.00024927854537963866\n",
      "INFO:root:Rollout length: 200\n",
      "INFO:root:Average action selection time: 0.000300523042678833\n",
      "INFO:root:Rollout length: 200\n",
      "INFO:root:Average action selection time: 0.0002645599842071533\n",
      "INFO:root:Rollout length: 200\n",
      "INFO:root:Average action selection time: 0.00025632023811340333\n",
      "INFO:root:Rollout length: 200\n",
      "INFO:root:Average action selection time: 0.00025011420249938966\n",
      "INFO:root:Rollout length: 200\n",
      "INFO:root:Average action selection time: 0.0002512550354003906\n",
      "INFO:root:Rollout length: 200\n",
      "INFO:root:Finished collecting samples for rollout\n",
      "INFO:root:Started the system training\n",
      "INFO:root:Saving the model now....\n"
     ]
    },
    {
     "name": "stdout",
     "output_type": "stream",
     "text": [
      "WARNING:tensorflow:From /Users/ossamaahmed/.virtualenvs/model_based_rl/lib/python3.7/site-packages/tensorflow_core/python/ops/resource_variable_ops.py:1781: calling BaseResourceVariable.__init__ (from tensorflow.python.ops.resource_variable_ops) with constraint is deprecated and will be removed in a future version.\n",
      "Instructions for updating:\n",
      "If using Keras pass *_constraint arguments to layers.\n"
     ]
    },
    {
     "name": "stderr",
     "output_type": "stream",
     "text": [
      "WARNING:tensorflow:From /Users/ossamaahmed/.virtualenvs/model_based_rl/lib/python3.7/site-packages/tensorflow_core/python/ops/resource_variable_ops.py:1781: calling BaseResourceVariable.__init__ (from tensorflow.python.ops.resource_variable_ops) with constraint is deprecated and will be removed in a future version.\n",
      "Instructions for updating:\n",
      "If using Keras pass *_constraint arguments to layers.\n"
     ]
    },
    {
     "name": "stdout",
     "output_type": "stream",
     "text": [
      "INFO:tensorflow:Assets written to: ./tutorial_2/saved_model/assets\n"
     ]
    },
    {
     "name": "stderr",
     "output_type": "stream",
     "text": [
      "INFO:tensorflow:Assets written to: ./tutorial_2/saved_model/assets\n"
     ]
    }
   ],
   "source": [
    "system_dynamics_handler = my_runner.learn_dynamics_from_randomness(number_of_rollouts=10,\n",
    "                                                                   task_horizon=200,\n",
    "                                                                   dynamics_function=dynamics_function)"
   ]
  },
  {
   "cell_type": "code",
   "execution_count": 5,
   "metadata": {},
   "outputs": [
    {
     "data": {
      "text/plain": [
       "Reusing TensorBoard on port 6006 (pid 85347), started 0:00:46 ago. (Use '!kill 85347' to kill it.)"
      ]
     },
     "metadata": {},
     "output_type": "display_data"
    },
    {
     "data": {
      "text/html": [
       "\n",
       "      <iframe id=\"tensorboard-frame-4f60993f2de409d1\" width=\"100%\" height=\"800\" frameborder=\"0\">\n",
       "      </iframe>\n",
       "      <script>\n",
       "        (function() {\n",
       "          const frame = document.getElementById(\"tensorboard-frame-4f60993f2de409d1\");\n",
       "          const url = new URL(\"/\", window.location);\n",
       "          url.port = 6006;\n",
       "          frame.src = url;\n",
       "        })();\n",
       "      </script>\n",
       "  "
      ],
      "text/plain": [
       "<IPython.core.display.HTML object>"
      ]
     },
     "metadata": {},
     "output_type": "display_data"
    }
   ],
   "source": [
    "%load_ext tensorboard\n",
    "%tensorboard --logdir {log_path}"
   ]
  }
 ],
 "metadata": {
  "kernelspec": {
   "display_name": "Python 3",
   "language": "python",
   "name": "python3"
  },
  "language_info": {
   "codemirror_mode": {
    "name": "ipython",
    "version": 3
   },
   "file_extension": ".py",
   "mimetype": "text/x-python",
   "name": "python",
   "nbconvert_exporter": "python",
   "pygments_lexer": "ipython3",
   "version": "3.7.5"
  }
 },
 "nbformat": 4,
 "nbformat_minor": 2
}
