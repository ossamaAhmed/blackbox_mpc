{
 "cells": [
  {
   "cell_type": "markdown",
   "metadata": {},
   "source": [
    "# Tutorial Three"
   ]
  },
  {
   "cell_type": "markdown",
   "metadata": {},
   "source": [
    "create a parallel environment for the pendulum environment and then create an MPC controller\n",
    "using the true known analytical model and the same cost/reward functions used in the openAI gym env, then record\n",
    "some rollouts and switch the optimizer to have a feeling of which ones are better for this problem."
   ]
  },
  {
   "cell_type": "code",
   "execution_count": 1,
   "metadata": {},
   "outputs": [],
   "source": [
    "from tf_neuralmpc.environment_utils import EnvironmentWrapper\n",
    "from tf_neuralmpc.examples.true_models import PendulumTrueModel\n",
    "from tf_neuralmpc.examples.cost_funcs import pendulum_state_reward_function, pendulum_actions_reward_function\n",
    "from tf_neuralmpc import Runner"
   ]
  },
  {
   "cell_type": "code",
   "execution_count": 2,
   "metadata": {},
   "outputs": [],
   "source": [
    "number_of_agents = 1\n",
    "single_env, parallel_env = EnvironmentWrapper.make_standard_gym_env(\"Pendulum-v0\", random_seed=0,\n",
    "                                                                    num_of_agents=number_of_agents)\n",
    "my_runner = Runner(env=[single_env, parallel_env],\n",
    "                   log_path=None,\n",
    "                   num_of_agents=number_of_agents)"
   ]
  },
  {
   "cell_type": "code",
   "execution_count": 3,
   "metadata": {},
   "outputs": [],
   "source": [
    "mpc_controller = my_runner.make_mpc_policy(dynamics_function=PendulumTrueModel(),\n",
    "                                           state_reward_function=pendulum_state_reward_function,\n",
    "                                           actions_reward_function=pendulum_actions_reward_function,\n",
    "                                           planning_horizon=50,\n",
    "                                           optimizer_name='PI2',\n",
    "                                           true_model=True)"
   ]
  },
  {
   "cell_type": "code",
   "execution_count": 4,
   "metadata": {},
   "outputs": [],
   "source": [
    "my_runner.record_rollout(horizon=300, policy=mpc_controller, record_file_path='./pi2')"
   ]
  },
  {
   "cell_type": "code",
   "execution_count": 5,
   "metadata": {},
   "outputs": [],
   "source": [
    "mpc_controller.switch_optimizer(optimizer_name='RandomSearch')\n",
    "my_runner.record_rollout(horizon=300, policy=mpc_controller, record_file_path='./random_search')"
   ]
  }
 ],
 "metadata": {
  "kernelspec": {
   "display_name": "Python 3",
   "language": "python",
   "name": "python3"
  },
  "language_info": {
   "codemirror_mode": {
    "name": "ipython",
    "version": 3
   },
   "file_extension": ".py",
   "mimetype": "text/x-python",
   "name": "python",
   "nbconvert_exporter": "python",
   "pygments_lexer": "ipython3",
   "version": "3.7.5"
  }
 },
 "nbformat": 4,
 "nbformat_minor": 2
}
