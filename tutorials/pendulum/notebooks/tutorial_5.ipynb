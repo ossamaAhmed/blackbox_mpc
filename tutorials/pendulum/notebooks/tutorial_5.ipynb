{
 "cells": [
  {
   "cell_type": "markdown",
   "metadata": {},
   "source": [
    "# Tutorial Five"
   ]
  },
  {
   "cell_type": "markdown",
   "metadata": {},
   "source": [
    "create a parallel environment for the pendulum environment and then learn the dynamics model\n",
    "from random rollouts initially and use MPC to collect more samples and refine the model in an iterative fashion."
   ]
  },
  {
   "cell_type": "code",
   "execution_count": 1,
   "metadata": {},
   "outputs": [],
   "source": [
    "from tf_neuralmpc.environment_utils import EnvironmentWrapper\n",
    "import logging\n",
    "from tf_neuralmpc.dynamics_functions import DeterministicMLP\n",
    "from tf_neuralmpc.examples.cost_funcs import pendulum_actions_reward_function, pendulum_state_reward_function\n",
    "from tf_neuralmpc import Runner\n",
    "import tensorflow as tf\n",
    "logging.getLogger().setLevel(logging.INFO)"
   ]
  },
  {
   "cell_type": "code",
   "execution_count": 2,
   "metadata": {},
   "outputs": [],
   "source": [
    "number_of_agents = 2\n",
    "log_path = './tutorial_5'\n",
    "single_env, parallel_env = EnvironmentWrapper.make_standard_gym_env(\"Pendulum-v0\", random_seed=0,\n",
    "                                                                    num_of_agents=number_of_agents)\n",
    "my_runner = Runner(env=[single_env, parallel_env],\n",
    "                   log_path=log_path,\n",
    "                   num_of_agents=number_of_agents)"
   ]
  },
  {
   "cell_type": "markdown",
   "metadata": {},
   "source": [
    "Define the dynamics model architecture now"
   ]
  },
  {
   "cell_type": "code",
   "execution_count": 3,
   "metadata": {},
   "outputs": [],
   "source": [
    "state_size = single_env.observation_space.shape[0]\n",
    "input_size = single_env.action_space.shape[0]\n",
    "dynamics_function = DeterministicMLP()\n",
    "dynamics_function.add_layer(state_size + input_size,\n",
    "                            32, activation_function=tf.math.tanh)\n",
    "dynamics_function.add_layer(32, 32, activation_function=tf.math.tanh)\n",
    "dynamics_function.add_layer(32, 32, activation_function=tf.math.tanh)\n",
    "dynamics_function.add_layer(32, state_size)"
   ]
  },
  {
   "cell_type": "markdown",
   "metadata": {},
   "source": [
    "Now learn the dynamics model using the random rollouts. Note: real number of rollouts in totoal is eqaul to number_of_agents*number_of_rollouts"
   ]
  },
  {
   "cell_type": "code",
   "execution_count": 4,
   "metadata": {},
   "outputs": [
    {
     "name": "stderr",
     "output_type": "stream",
     "text": [
      "INFO:root:Started collecting samples for rollouts\n",
      "INFO:root:Average action selection time: 0.00023541569709777831\n",
      "INFO:root:Rollout length: 200\n",
      "INFO:root:Average action selection time: 0.00024532914161682127\n",
      "INFO:root:Rollout length: 200\n",
      "INFO:root:Average action selection time: 0.00026759982109069824\n",
      "INFO:root:Rollout length: 200\n",
      "INFO:root:Average action selection time: 0.00023585081100463868\n",
      "INFO:root:Rollout length: 200\n",
      "INFO:root:Average action selection time: 0.00026265621185302736\n",
      "INFO:root:Rollout length: 200\n",
      "INFO:root:Average action selection time: 0.0002476179599761963\n",
      "INFO:root:Rollout length: 200\n",
      "INFO:root:Average action selection time: 0.000246272087097168\n",
      "INFO:root:Rollout length: 200\n",
      "INFO:root:Average action selection time: 0.0002491772174835205\n",
      "INFO:root:Rollout length: 200\n",
      "INFO:root:Average action selection time: 0.0002476632595062256\n",
      "INFO:root:Rollout length: 200\n",
      "INFO:root:Average action selection time: 0.0002444589138031006\n",
      "INFO:root:Rollout length: 200\n",
      "INFO:root:Average action selection time: 0.00024466276168823243\n",
      "INFO:root:Rollout length: 200\n",
      "INFO:root:Average action selection time: 0.00024309158325195313\n",
      "INFO:root:Rollout length: 200\n",
      "INFO:root:Average action selection time: 0.0002437138557434082\n",
      "INFO:root:Rollout length: 200\n",
      "INFO:root:Average action selection time: 0.00024232149124145508\n",
      "INFO:root:Rollout length: 200\n",
      "INFO:root:Average action selection time: 0.00025202035903930663\n",
      "INFO:root:Rollout length: 200\n",
      "INFO:root:Average action selection time: 0.00024545907974243163\n",
      "INFO:root:Rollout length: 200\n",
      "INFO:root:Average action selection time: 0.00024207592010498048\n",
      "INFO:root:Rollout length: 200\n",
      "INFO:root:Average action selection time: 0.0002725052833557129\n",
      "INFO:root:Rollout length: 200\n",
      "INFO:root:Average action selection time: 0.00024397730827331544\n",
      "INFO:root:Rollout length: 200\n",
      "INFO:root:Average action selection time: 0.00025012850761413574\n",
      "INFO:root:Rollout length: 200\n",
      "INFO:root:Finished collecting samples for rollout\n",
      "INFO:root:Started the system training\n",
      "INFO:root:Saving the model now....\n"
     ]
    },
    {
     "name": "stdout",
     "output_type": "stream",
     "text": [
      "WARNING:tensorflow:From /Users/ossamaahmed/.virtualenvs/model_based_rl/lib/python3.7/site-packages/tensorflow_core/python/ops/resource_variable_ops.py:1781: calling BaseResourceVariable.__init__ (from tensorflow.python.ops.resource_variable_ops) with constraint is deprecated and will be removed in a future version.\n",
      "Instructions for updating:\n",
      "If using Keras pass *_constraint arguments to layers.\n"
     ]
    },
    {
     "name": "stderr",
     "output_type": "stream",
     "text": [
      "WARNING:tensorflow:From /Users/ossamaahmed/.virtualenvs/model_based_rl/lib/python3.7/site-packages/tensorflow_core/python/ops/resource_variable_ops.py:1781: calling BaseResourceVariable.__init__ (from tensorflow.python.ops.resource_variable_ops) with constraint is deprecated and will be removed in a future version.\n",
      "Instructions for updating:\n",
      "If using Keras pass *_constraint arguments to layers.\n"
     ]
    },
    {
     "name": "stdout",
     "output_type": "stream",
     "text": [
      "INFO:tensorflow:Assets written to: ./tutorial_5/saved_model/assets\n"
     ]
    },
    {
     "name": "stderr",
     "output_type": "stream",
     "text": [
      "INFO:tensorflow:Assets written to: ./tutorial_5/saved_model/assets\n",
      "INFO:root:Trained initial system model\n",
      "INFO:root:Started collecting samples for rollouts\n",
      "INFO:root:Average action selection time: 0.08433211565017701\n",
      "INFO:root:Rollout length: 200\n",
      "INFO:root:Average action selection time: 0.07166394948959351\n",
      "INFO:root:Rollout length: 200\n",
      "INFO:root:Finished collecting samples for rollout\n",
      "INFO:root:Started the system training\n",
      "INFO:root:Saving the model now....\n"
     ]
    },
    {
     "name": "stdout",
     "output_type": "stream",
     "text": [
      "INFO:tensorflow:Assets written to: ./tutorial_5/saved_model/assets\n"
     ]
    },
    {
     "name": "stderr",
     "output_type": "stream",
     "text": [
      "INFO:tensorflow:Assets written to: ./tutorial_5/saved_model/assets\n",
      "INFO:root:Started collecting samples for rollouts\n",
      "INFO:root:Average action selection time: 0.07713130831718445\n",
      "INFO:root:Rollout length: 200\n",
      "INFO:root:Average action selection time: 0.07219652056694031\n",
      "INFO:root:Rollout length: 200\n",
      "INFO:root:Finished collecting samples for rollout\n",
      "INFO:root:Started the system training\n",
      "INFO:root:Saving the model now....\n"
     ]
    },
    {
     "name": "stdout",
     "output_type": "stream",
     "text": [
      "INFO:tensorflow:Assets written to: ./tutorial_5/saved_model/assets\n"
     ]
    },
    {
     "name": "stderr",
     "output_type": "stream",
     "text": [
      "INFO:tensorflow:Assets written to: ./tutorial_5/saved_model/assets\n",
      "INFO:root:Started collecting samples for rollouts\n",
      "INFO:root:Average action selection time: 0.08324985504150391\n",
      "INFO:root:Rollout length: 200\n",
      "INFO:root:Average action selection time: 0.07785637497901916\n",
      "INFO:root:Rollout length: 200\n",
      "INFO:root:Finished collecting samples for rollout\n"
     ]
    }
   ],
   "source": [
    "system_dynamics_handler, mpc_policy = my_runner.learn_dynamics_iteratively_w_mpc(number_of_initial_rollouts=20,\n",
    "                                                                                 number_of_rollouts_for_refinement=2,\n",
    "                                                                                 number_of_refinement_steps=2,\n",
    "                                                                                 dynamics_function=dynamics_function,\n",
    "                                                                                 task_horizon=200,\n",
    "                                                                                 planning_horizon=40,\n",
    "                                                                                 state_reward_function=pendulum_state_reward_function,\n",
    "                                                                                 actions_reward_function=pendulum_actions_reward_function,\n",
    "                                                                                 optimizer_name='PI2',\n",
    "                                                                                 exploration_noise=True)"
   ]
  },
  {
   "cell_type": "code",
   "execution_count": 5,
   "metadata": {},
   "outputs": [
    {
     "data": {
      "text/html": [
       "\n",
       "      <iframe id=\"tensorboard-frame-71f11d1bc19a1665\" width=\"100%\" height=\"800\" frameborder=\"0\">\n",
       "      </iframe>\n",
       "      <script>\n",
       "        (function() {\n",
       "          const frame = document.getElementById(\"tensorboard-frame-71f11d1bc19a1665\");\n",
       "          const url = new URL(\"/\", window.location);\n",
       "          url.port = 6008;\n",
       "          frame.src = url;\n",
       "        })();\n",
       "      </script>\n",
       "  "
      ],
      "text/plain": [
       "<IPython.core.display.HTML object>"
      ]
     },
     "metadata": {},
     "output_type": "display_data"
    }
   ],
   "source": [
    "%load_ext tensorboard\n",
    "%tensorboard --logdir {log_path}"
   ]
  },
  {
   "cell_type": "markdown",
   "metadata": {},
   "source": [
    "Now create an MPC controller with the learned dynamics."
   ]
  },
  {
   "cell_type": "code",
   "execution_count": 6,
   "metadata": {},
   "outputs": [],
   "source": [
    "my_runner.record_rollout(horizon=500, policy=mpc_policy,\n",
    "                         record_file_path=log_path+'/episode_1')"
   ]
  }
 ],
 "metadata": {
  "kernelspec": {
   "display_name": "Python 3",
   "language": "python",
   "name": "python3"
  },
  "language_info": {
   "codemirror_mode": {
    "name": "ipython",
    "version": 3
   },
   "file_extension": ".py",
   "mimetype": "text/x-python",
   "name": "python",
   "nbconvert_exporter": "python",
   "pygments_lexer": "ipython3",
   "version": "3.7.5"
  }
 },
 "nbformat": 4,
 "nbformat_minor": 2
}
