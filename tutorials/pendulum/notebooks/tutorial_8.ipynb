{
 "cells": [
  {
   "cell_type": "markdown",
   "metadata": {},
   "source": [
    "# Tutorial Eight"
   ]
  },
  {
   "cell_type": "markdown",
   "metadata": {},
   "source": [
    "create a parallel environment for the pendulum environment and then create the mpc controller with the\n",
    "learned model using the low level API blocks and customizing the optimizer params, Note: each block can be\n",
    "extended and modified using the base of the block itself."
   ]
  },
  {
   "cell_type": "code",
   "execution_count": 1,
   "metadata": {},
   "outputs": [],
   "source": [
    "from tf_neuralmpc.environment_utils import EnvironmentWrapper\n",
    "from tf_neuralmpc.dynamics_functions import DeterministicMLP\n",
    "from tf_neuralmpc.trajectory_evaluators.deterministic import DeterministicTrajectoryEvaluator\n",
    "from tf_neuralmpc.dynamics_handlers.system_dynamics_handler import SystemDynamicsHandler\n",
    "from tf_neuralmpc.examples.cost_funcs import pendulum_state_reward_function, pendulum_actions_reward_function\n",
    "from tf_neuralmpc.policies.mpc_policy import MPCPolicy\n",
    "from tf_neuralmpc.optimizers import PSOOptimizer\n",
    "import logging\n",
    "import tensorflow as tf\n",
    "import numpy as np\n",
    "from tf_neuralmpc import Runner\n",
    "logging.getLogger().setLevel(logging.INFO)"
   ]
  },
  {
   "cell_type": "code",
   "execution_count": 2,
   "metadata": {},
   "outputs": [],
   "source": [
    "number_of_agents = 5\n",
    "single_env, parallel_env = EnvironmentWrapper.make_standard_gym_env(\"Pendulum-v0\", random_seed=0,\n",
    "                                                                    num_of_agents=number_of_agents)\n",
    "my_runner = Runner(env=[single_env, parallel_env],\n",
    "                   log_path=None,\n",
    "                   num_of_agents=number_of_agents)"
   ]
  },
  {
   "cell_type": "markdown",
   "metadata": {},
   "source": [
    "Define the dynamics model"
   ]
  },
  {
   "cell_type": "code",
   "execution_count": 3,
   "metadata": {},
   "outputs": [],
   "source": [
    "state_size = tf.constant(single_env.observation_space.shape[0], dtype=tf.int32)\n",
    "input_size = tf.constant(single_env.action_space.shape[0], dtype=tf.int32)\n",
    "dynamics_function = DeterministicMLP()\n",
    "dynamics_function.add_layer(state_size + input_size,\n",
    "                            32, activation_function=tf.math.tanh)\n",
    "dynamics_function.add_layer(32, 32, activation_function=tf.math.tanh)\n",
    "dynamics_function.add_layer(32, 32, activation_function=tf.math.tanh)\n",
    "dynamics_function.add_layer(32, state_size)"
   ]
  },
  {
   "cell_type": "markdown",
   "metadata": {},
   "source": [
    "Define the system dynamics handler."
   ]
  },
  {
   "cell_type": "code",
   "execution_count": 4,
   "metadata": {},
   "outputs": [],
   "source": [
    "system_dynamics_handler = SystemDynamicsHandler(dynamics_function=dynamics_function,\n",
    "                                                dim_O=state_size,\n",
    "                                                dim_U=input_size,\n",
    "                                                num_of_agents=number_of_agents,\n",
    "                                                true_model=False,\n",
    "                                                normalization=True)"
   ]
  },
  {
   "cell_type": "markdown",
   "metadata": {},
   "source": [
    "Define the trajectory evaluator that will be used to evaluate trajectories proposed by the optimizer."
   ]
  },
  {
   "cell_type": "code",
   "execution_count": 5,
   "metadata": {},
   "outputs": [],
   "source": [
    "deterministic_trajectory_evaluator = DeterministicTrajectoryEvaluator(state_reward_function=pendulum_state_reward_function,\n",
    "                                                                      actions_reward_function=pendulum_actions_reward_function,\n",
    "                                                                      planning_horizon=50,\n",
    "                                                                      dim_U=input_size,\n",
    "                                                                      dim_O=state_size,\n",
    "                                                                      system_dynamics_handler=system_dynamics_handler)"
   ]
  },
  {
   "cell_type": "markdown",
   "metadata": {},
   "source": [
    "Define the optimizer that will be used and customize its params."
   ]
  },
  {
   "cell_type": "code",
   "execution_count": 6,
   "metadata": {},
   "outputs": [],
   "source": [
    "max_iterations = 5\n",
    "population_size = 500\n",
    "c1 = 0.3\n",
    "c2 = 0.5\n",
    "w = 0.2\n",
    "initial_velocity_fraction = 0.01\n",
    "action_upper_bound = tf.constant(single_env.action_space.high, dtype=tf.float32)\n",
    "action_lower_bound = tf.constant(single_env.action_space.low, dtype=tf.float32)\n",
    "my_optimizer = PSOOptimizer(max_iterations=tf.constant(max_iterations, dtype=tf.int32),\n",
    "                            population_size=tf.constant(population_size, dtype=tf.int32),\n",
    "                            c1=tf.constant(c1, dtype=tf.float32),\n",
    "                            c2=tf.constant(c2, dtype=tf.float32),\n",
    "                            w=tf.constant(w, dtype=tf.float32),\n",
    "                            initial_velocity_fraction=tf.constant(\n",
    "                                initial_velocity_fraction, dtype=tf.float32),\n",
    "                            dim_U=input_size,\n",
    "                            dim_O=state_size,\n",
    "                            action_upper_bound=action_upper_bound,\n",
    "                            action_lower_bound=action_lower_bound,\n",
    "                            num_agents=number_of_agents,\n",
    "                            trajectory_evaluator=deterministic_trajectory_evaluator,\n",
    "                            planning_horizon=50)"
   ]
  },
  {
   "cell_type": "markdown",
   "metadata": {},
   "source": [
    "Define the MPC policy now"
   ]
  },
  {
   "cell_type": "code",
   "execution_count": 7,
   "metadata": {},
   "outputs": [],
   "source": [
    "mpc_controller = MPCPolicy(system_dynamics_handler=system_dynamics_handler,\n",
    "                           optimizer=my_optimizer)"
   ]
  },
  {
   "cell_type": "markdown",
   "metadata": {},
   "source": [
    "Learn the dynamics model with MPC in an iterative fashion."
   ]
  },
  {
   "cell_type": "code",
   "execution_count": null,
   "metadata": {},
   "outputs": [
    {
     "name": "stderr",
     "output_type": "stream",
     "text": [
      "INFO:root:Started collecting samples for rollouts\n",
      "INFO:root:Average action selection time: 0.00027956366539001466\n",
      "INFO:root:Rollout length: 200\n",
      "INFO:root:Average action selection time: 0.0002698063850402832\n",
      "INFO:root:Rollout length: 200\n",
      "INFO:root:Average action selection time: 0.0002611672878265381\n",
      "INFO:root:Rollout length: 200\n",
      "INFO:root:Average action selection time: 0.0002615797519683838\n",
      "INFO:root:Rollout length: 200\n",
      "INFO:root:Average action selection time: 0.0002585577964782715\n",
      "INFO:root:Rollout length: 200\n",
      "INFO:root:Average action selection time: 0.0002643263339996338\n",
      "INFO:root:Rollout length: 200\n",
      "INFO:root:Average action selection time: 0.00026721358299255373\n",
      "INFO:root:Rollout length: 200\n",
      "INFO:root:Average action selection time: 0.00026463985443115235\n",
      "INFO:root:Rollout length: 200\n",
      "INFO:root:Average action selection time: 0.0002685797214508057\n",
      "INFO:root:Rollout length: 200\n",
      "INFO:root:Average action selection time: 0.0002503645420074463\n",
      "INFO:root:Rollout length: 200\n",
      "INFO:root:Average action selection time: 0.0002693462371826172\n",
      "INFO:root:Rollout length: 200\n",
      "INFO:root:Average action selection time: 0.00027369022369384767\n",
      "INFO:root:Rollout length: 200\n",
      "INFO:root:Average action selection time: 0.00025032758712768556\n",
      "INFO:root:Rollout length: 200\n",
      "INFO:root:Average action selection time: 0.000252460241317749\n",
      "INFO:root:Rollout length: 200\n",
      "INFO:root:Average action selection time: 0.0002561140060424805\n",
      "INFO:root:Rollout length: 200\n",
      "INFO:root:Average action selection time: 0.00025049805641174316\n",
      "INFO:root:Rollout length: 200\n",
      "INFO:root:Average action selection time: 0.0002517080307006836\n",
      "INFO:root:Rollout length: 200\n",
      "INFO:root:Average action selection time: 0.0002483928203582764\n",
      "INFO:root:Rollout length: 200\n",
      "INFO:root:Average action selection time: 0.00025584220886230467\n",
      "INFO:root:Rollout length: 200\n",
      "INFO:root:Average action selection time: 0.00025219202041625976\n",
      "INFO:root:Rollout length: 200\n",
      "INFO:root:Finished collecting samples for rollout\n",
      "INFO:root:Started the system training\n",
      "INFO:root:Trained initial system model\n",
      "INFO:root:Started collecting samples for rollouts\n",
      "INFO:root:Average action selection time: 0.18008755564689635\n",
      "INFO:root:Rollout length: 200\n",
      "INFO:root:Average action selection time: 0.17038796305656434\n",
      "INFO:root:Rollout length: 200\n",
      "INFO:root:Average action selection time: 0.1768366003036499\n",
      "INFO:root:Rollout length: 200\n",
      "INFO:root:Finished collecting samples for rollout\n",
      "INFO:root:Started the system training\n",
      "INFO:root:Started collecting samples for rollouts\n",
      "INFO:root:Average action selection time: 0.17380984067916871\n",
      "INFO:root:Rollout length: 200\n",
      "INFO:root:Average action selection time: 0.174305100440979\n",
      "INFO:root:Rollout length: 200\n",
      "INFO:root:Average action selection time: 0.17450287580490112\n",
      "INFO:root:Rollout length: 200\n",
      "INFO:root:Finished collecting samples for rollout\n",
      "INFO:root:Started the system training\n",
      "INFO:root:Started collecting samples for rollouts\n",
      "INFO:root:Average action selection time: 0.18215755820274354\n",
      "INFO:root:Rollout length: 200\n"
     ]
    }
   ],
   "source": [
    "my_runner.learn_dynamics_iteratively_w_mpc(number_of_initial_rollouts=20,\n",
    "                                           number_of_rollouts_for_refinement=3,\n",
    "                                           number_of_refinement_steps=2,\n",
    "                                           task_horizon=200,\n",
    "                                           mpc_policy=mpc_controller)"
   ]
  },
  {
   "cell_type": "markdown",
   "metadata": {},
   "source": [
    "Rollout a trajectory"
   ]
  },
  {
   "cell_type": "code",
   "execution_count": null,
   "metadata": {},
   "outputs": [],
   "source": [
    "current_obs = single_env.reset()\n",
    "current_obs = np.tile(np.expand_dims(current_obs, 0),\n",
    "                      (number_of_agents, 1))\n",
    "for t in range(200):\n",
    "    action_to_execute, expected_obs, expected_reward = mpc_controller.act(current_obs, t)\n",
    "    current_obs, reward, _, info = single_env.step(action_to_execute[0])\n",
    "    current_obs = np.tile(np.expand_dims(current_obs, 0),\n",
    "                          (number_of_agents, 1))\n",
    "    single_env.render()"
   ]
  }
 ],
 "metadata": {
  "kernelspec": {
   "display_name": "Python 3",
   "language": "python",
   "name": "python3"
  },
  "language_info": {
   "codemirror_mode": {
    "name": "ipython",
    "version": 3
   },
   "file_extension": ".py",
   "mimetype": "text/x-python",
   "name": "python",
   "nbconvert_exporter": "python",
   "pygments_lexer": "ipython3",
   "version": "3.7.5"
  }
 },
 "nbformat": 4,
 "nbformat_minor": 2
}
