{
 "cells": [
  {
   "cell_type": "markdown",
   "metadata": {},
   "source": [
    "# Tutorial One"
   ]
  },
  {
   "cell_type": "markdown",
   "metadata": {},
   "source": [
    "Tutorial one: create a parallel environment for the pendulum environment and then create an MPC controller\n",
    "using the true known analytical model and the same cost/reward functions used in the openAI gym env.\n",
    "Render the resulting MPC afterwards"
   ]
  },
  {
   "cell_type": "code",
   "execution_count": 22,
   "metadata": {},
   "outputs": [],
   "source": [
    "from tf_neuralmpc.environment_utils import EnvironmentWrapper\n",
    "from tf_neuralmpc.examples.true_models import PendulumTrueModel\n",
    "from tf_neuralmpc.examples.cost_funcs import pendulum_state_reward_function, pendulum_actions_reward_function\n",
    "import numpy as np\n",
    "from tf_neuralmpc import Runner"
   ]
  },
  {
   "cell_type": "code",
   "execution_count": 23,
   "metadata": {},
   "outputs": [],
   "source": [
    "number_of_agents = 5\n",
    "single_env, parallel_env = EnvironmentWrapper.make_standard_gym_env(\"Pendulum-v0\", random_seed=0,\n",
    "                                                                    num_of_agents=number_of_agents)\n",
    "my_runner = Runner(env=[single_env, parallel_env],\n",
    "                   log_path=None,\n",
    "                   num_of_agents=number_of_agents)"
   ]
  },
  {
   "cell_type": "markdown",
   "metadata": {},
   "source": [
    "Choose between the following optimizers: ['CEM', 'CMA-ES', 'PI2', 'RandomSearch', 'PSO', 'SPSA']."
   ]
  },
  {
   "cell_type": "code",
   "execution_count": 28,
   "metadata": {},
   "outputs": [],
   "source": [
    "mpc_controller = my_runner.make_mpc_policy(dynamics_function=PendulumTrueModel(),\n",
    "                                           state_reward_function=pendulum_state_reward_function,\n",
    "                                           actions_reward_function=pendulum_actions_reward_function,\n",
    "                                           planning_horizon=30,\n",
    "                                           optimizer_name='RandomSearch',\n",
    "                                           true_model=True)"
   ]
  },
  {
   "cell_type": "code",
   "execution_count": 29,
   "metadata": {},
   "outputs": [],
   "source": [
    "current_obs = single_env.reset()\n",
    "current_obs = np.tile(np.expand_dims(current_obs, 0),\n",
    "                      (number_of_agents, 1))\n",
    "for t in range(200):\n",
    "    action_to_execute, expected_obs, expected_reward = mpc_controller.act(current_obs, t)\n",
    "    current_obs, reward, _, info = single_env.step(action_to_execute[0])\n",
    "    current_obs = np.tile(np.expand_dims(current_obs, 0),\n",
    "                          (number_of_agents, 1))\n",
    "    single_env.render()\n"
   ]
  },
  {
   "cell_type": "code",
   "execution_count": 5,
   "metadata": {},
   "outputs": [],
   "source": [
    "single_env.close()"
   ]
  }
 ],
 "metadata": {
  "kernelspec": {
   "display_name": "Python 3",
   "language": "python",
   "name": "python3"
  },
  "language_info": {
   "codemirror_mode": {
    "name": "ipython",
    "version": 3
   },
   "file_extension": ".py",
   "mimetype": "text/x-python",
   "name": "python",
   "nbconvert_exporter": "python",
   "pygments_lexer": "ipython3",
   "version": "3.7.5"
  }
 },
 "nbformat": 4,
 "nbformat_minor": 2
}
